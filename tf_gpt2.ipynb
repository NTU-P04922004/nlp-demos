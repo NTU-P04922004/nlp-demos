{
  "nbformat": 4,
  "nbformat_minor": 0,
  "metadata": {
    "colab": {
      "provenance": [],
      "gpuType": "T4",
      "collapsed_sections": [
        "Dsnr1ewu1Y28",
        "tG5l2X9y1eyu"
      ],
      "include_colab_link": true
    },
    "kernelspec": {
      "name": "python3",
      "display_name": "Python 3"
    },
    "language_info": {
      "name": "python"
    },
    "accelerator": "GPU"
  },
  "cells": [
    {
      "cell_type": "markdown",
      "metadata": {
        "id": "view-in-github",
        "colab_type": "text"
      },
      "source": [
        "<a href=\"https://colab.research.google.com/github/NTU-P04922004/nlp-demos/blob/main/tf_gpt2.ipynb\" target=\"_parent\"><img src=\"https://colab.research.google.com/assets/colab-badge.svg\" alt=\"Open In Colab\"/></a>"
      ]
    },
    {
      "cell_type": "markdown",
      "source": [
        "# Demo: Training GPT-2 using TensorFlow and Keras\n",
        "\n",
        "This notebook demonstrates how to train a small GPT-2 model from scratch using TensorFlow and Keras. We will train the model on a text dataset and make it generate similar texts.\n",
        "\n",
        "Note that training GPT-2 models can be computationally expensive, and using a GPU is highly recommended.\n",
        "\n",
        "**References**:\n",
        "- [nanoGPT](https://github.com/karpathy/nanoGPT)\n",
        "- [Text generation with a miniature GPT](https://keras.io/examples/generative/text_generation_with_miniature_gpt/)"
      ],
      "metadata": {
        "id": "RHkSPSYz7pqH"
      }
    },
    {
      "cell_type": "markdown",
      "source": [
        "## Set Up Environment"
      ],
      "metadata": {
        "id": "Dsnr1ewu1Y28"
      }
    },
    {
      "cell_type": "markdown",
      "source": [
        "### Install required packages"
      ],
      "metadata": {
        "id": "qT6r66ae8ZRa"
      }
    },
    {
      "cell_type": "code",
      "execution_count": null,
      "metadata": {
        "id": "CT5PRAR74C_y",
        "colab": {
          "base_uri": "https://localhost:8080/"
        },
        "outputId": "268a61c1-bc97-4b58-c351-c4e59f5c0a26"
      },
      "outputs": [
        {
          "output_type": "stream",
          "name": "stdout",
          "text": [
            "Requirement already satisfied: tensorflow==2.16.1 in /usr/local/lib/python3.10/dist-packages (2.16.1)\n",
            "Requirement already satisfied: keras==3.1.1 in /usr/local/lib/python3.10/dist-packages (3.1.1)\n",
            "Requirement already satisfied: keras-nlp==0.8.2 in /usr/local/lib/python3.10/dist-packages (0.8.2)\n",
            "Requirement already satisfied: absl-py>=1.0.0 in /usr/local/lib/python3.10/dist-packages (from tensorflow==2.16.1) (1.4.0)\n",
            "Requirement already satisfied: astunparse>=1.6.0 in /usr/local/lib/python3.10/dist-packages (from tensorflow==2.16.1) (1.6.3)\n",
            "Requirement already satisfied: flatbuffers>=23.5.26 in /usr/local/lib/python3.10/dist-packages (from tensorflow==2.16.1) (24.3.25)\n",
            "Requirement already satisfied: gast!=0.5.0,!=0.5.1,!=0.5.2,>=0.2.1 in /usr/local/lib/python3.10/dist-packages (from tensorflow==2.16.1) (0.5.4)\n",
            "Requirement already satisfied: google-pasta>=0.1.1 in /usr/local/lib/python3.10/dist-packages (from tensorflow==2.16.1) (0.2.0)\n",
            "Requirement already satisfied: h5py>=3.10.0 in /usr/local/lib/python3.10/dist-packages (from tensorflow==2.16.1) (3.10.0)\n",
            "Requirement already satisfied: libclang>=13.0.0 in /usr/local/lib/python3.10/dist-packages (from tensorflow==2.16.1) (18.1.1)\n",
            "Requirement already satisfied: ml-dtypes~=0.3.1 in /usr/local/lib/python3.10/dist-packages (from tensorflow==2.16.1) (0.3.2)\n",
            "Requirement already satisfied: opt-einsum>=2.3.2 in /usr/local/lib/python3.10/dist-packages (from tensorflow==2.16.1) (3.3.0)\n",
            "Requirement already satisfied: packaging in /usr/local/lib/python3.10/dist-packages (from tensorflow==2.16.1) (24.0)\n",
            "Requirement already satisfied: protobuf!=4.21.0,!=4.21.1,!=4.21.2,!=4.21.3,!=4.21.4,!=4.21.5,<5.0.0dev,>=3.20.3 in /usr/local/lib/python3.10/dist-packages (from tensorflow==2.16.1) (3.20.3)\n",
            "Requirement already satisfied: requests<3,>=2.21.0 in /usr/local/lib/python3.10/dist-packages (from tensorflow==2.16.1) (2.31.0)\n",
            "Requirement already satisfied: setuptools in /usr/local/lib/python3.10/dist-packages (from tensorflow==2.16.1) (67.7.2)\n",
            "Requirement already satisfied: six>=1.12.0 in /usr/local/lib/python3.10/dist-packages (from tensorflow==2.16.1) (1.16.0)\n",
            "Requirement already satisfied: termcolor>=1.1.0 in /usr/local/lib/python3.10/dist-packages (from tensorflow==2.16.1) (2.4.0)\n",
            "Requirement already satisfied: typing-extensions>=3.6.6 in /usr/local/lib/python3.10/dist-packages (from tensorflow==2.16.1) (4.10.0)\n",
            "Requirement already satisfied: wrapt>=1.11.0 in /usr/local/lib/python3.10/dist-packages (from tensorflow==2.16.1) (1.14.1)\n",
            "Requirement already satisfied: grpcio<2.0,>=1.24.3 in /usr/local/lib/python3.10/dist-packages (from tensorflow==2.16.1) (1.62.1)\n",
            "Requirement already satisfied: tensorboard<2.17,>=2.16 in /usr/local/lib/python3.10/dist-packages (from tensorflow==2.16.1) (2.16.2)\n",
            "Requirement already satisfied: tensorflow-io-gcs-filesystem>=0.23.1 in /usr/local/lib/python3.10/dist-packages (from tensorflow==2.16.1) (0.36.0)\n",
            "Requirement already satisfied: numpy<2.0.0,>=1.23.5 in /usr/local/lib/python3.10/dist-packages (from tensorflow==2.16.1) (1.25.2)\n",
            "Requirement already satisfied: rich in /usr/local/lib/python3.10/dist-packages (from keras==3.1.1) (13.7.1)\n",
            "Requirement already satisfied: namex in /usr/local/lib/python3.10/dist-packages (from keras==3.1.1) (0.0.7)\n",
            "Requirement already satisfied: optree in /usr/local/lib/python3.10/dist-packages (from keras==3.1.1) (0.11.0)\n",
            "Requirement already satisfied: keras-core in /usr/local/lib/python3.10/dist-packages (from keras-nlp==0.8.2) (0.1.7)\n",
            "Requirement already satisfied: regex in /usr/local/lib/python3.10/dist-packages (from keras-nlp==0.8.2) (2023.12.25)\n",
            "Requirement already satisfied: dm-tree in /usr/local/lib/python3.10/dist-packages (from keras-nlp==0.8.2) (0.1.8)\n",
            "Requirement already satisfied: kagglehub in /usr/local/lib/python3.10/dist-packages (from keras-nlp==0.8.2) (0.2.2)\n",
            "Requirement already satisfied: tensorflow-text in /usr/local/lib/python3.10/dist-packages (from keras-nlp==0.8.2) (2.16.1)\n",
            "Requirement already satisfied: wheel<1.0,>=0.23.0 in /usr/local/lib/python3.10/dist-packages (from astunparse>=1.6.0->tensorflow==2.16.1) (0.43.0)\n",
            "Requirement already satisfied: charset-normalizer<4,>=2 in /usr/local/lib/python3.10/dist-packages (from requests<3,>=2.21.0->tensorflow==2.16.1) (3.3.2)\n",
            "Requirement already satisfied: idna<4,>=2.5 in /usr/local/lib/python3.10/dist-packages (from requests<3,>=2.21.0->tensorflow==2.16.1) (3.6)\n",
            "Requirement already satisfied: urllib3<3,>=1.21.1 in /usr/local/lib/python3.10/dist-packages (from requests<3,>=2.21.0->tensorflow==2.16.1) (2.0.7)\n",
            "Requirement already satisfied: certifi>=2017.4.17 in /usr/local/lib/python3.10/dist-packages (from requests<3,>=2.21.0->tensorflow==2.16.1) (2024.2.2)\n",
            "Requirement already satisfied: markdown>=2.6.8 in /usr/local/lib/python3.10/dist-packages (from tensorboard<2.17,>=2.16->tensorflow==2.16.1) (3.6)\n",
            "Requirement already satisfied: tensorboard-data-server<0.8.0,>=0.7.0 in /usr/local/lib/python3.10/dist-packages (from tensorboard<2.17,>=2.16->tensorflow==2.16.1) (0.7.2)\n",
            "Requirement already satisfied: werkzeug>=1.0.1 in /usr/local/lib/python3.10/dist-packages (from tensorboard<2.17,>=2.16->tensorflow==2.16.1) (3.0.2)\n",
            "Requirement already satisfied: tqdm in /usr/local/lib/python3.10/dist-packages (from kagglehub->keras-nlp==0.8.2) (4.66.2)\n",
            "Requirement already satisfied: markdown-it-py>=2.2.0 in /usr/local/lib/python3.10/dist-packages (from rich->keras==3.1.1) (3.0.0)\n",
            "Requirement already satisfied: pygments<3.0.0,>=2.13.0 in /usr/local/lib/python3.10/dist-packages (from rich->keras==3.1.1) (2.16.1)\n",
            "Requirement already satisfied: mdurl~=0.1 in /usr/local/lib/python3.10/dist-packages (from markdown-it-py>=2.2.0->rich->keras==3.1.1) (0.1.2)\n",
            "Requirement already satisfied: MarkupSafe>=2.1.1 in /usr/local/lib/python3.10/dist-packages (from werkzeug>=1.0.1->tensorboard<2.17,>=2.16->tensorflow==2.16.1) (2.1.5)\n"
          ]
        }
      ],
      "source": [
        "!pip install tensorflow==2.16.1 keras==3.1.1 keras-nlp==0.8.2"
      ]
    },
    {
      "cell_type": "markdown",
      "source": [
        "### Download dataset"
      ],
      "metadata": {
        "id": "ExtwFwE38cGj"
      }
    },
    {
      "cell_type": "code",
      "source": [
        "!curl -O https://ai.stanford.edu/~amaas/data/sentiment/aclImdb_v1.tar.gz\n",
        "!tar -xf aclImdb_v1.tar.gz"
      ],
      "metadata": {
        "id": "tMC2rZYeqcXo",
        "colab": {
          "base_uri": "https://localhost:8080/"
        },
        "outputId": "5d4b7baa-9168-40a4-81f4-4cad99232419"
      },
      "execution_count": null,
      "outputs": [
        {
          "output_type": "stream",
          "name": "stdout",
          "text": [
            "  % Total    % Received % Xferd  Average Speed   Time    Time     Time  Current\n",
            "                                 Dload  Upload   Total   Spent    Left  Speed\n",
            "100 80.2M  100 80.2M    0     0  26.1M      0  0:00:03  0:00:03 --:--:-- 26.1M\n"
          ]
        }
      ]
    },
    {
      "cell_type": "markdown",
      "source": [
        "## Import Packages and Define Global Variables"
      ],
      "metadata": {
        "id": "tG5l2X9y1eyu"
      }
    },
    {
      "cell_type": "code",
      "source": [
        "import math\n",
        "import os\n",
        "import random\n",
        "import string\n",
        "\n",
        "import keras\n",
        "import keras_nlp\n",
        "import numpy as np\n",
        "import tensorflow as tf\n",
        "import tensorflow_datasets as tfds\n",
        "from keras import ops\n",
        "from keras.layers import (Dense, Dropout, Embedding, Input, Layer, LayerNormalization,\n",
        "                          MultiHeadAttention, TextVectorization)\n",
        "from matplotlib import pyplot as plt\n",
        "\n",
        "os.environ['KERAS_BACKEND'] = 'tensorflow'"
      ],
      "metadata": {
        "id": "FrkFKBli58nr"
      },
      "execution_count": null,
      "outputs": []
    },
    {
      "cell_type": "code",
      "source": [
        "IS_TRAIN = True\n",
        "MIXED_PRECISION = True      # Use mixed precision for training.\n",
        "DETERMINISM = True          # Run in deterministic mode.\n",
        "FREEZE_BACKBONE = False\n",
        "AUTOTUNE = tf.data.AUTOTUNE\n",
        "SEED = 42\n",
        "VOCABULARY_SIZE = 20000\n",
        "BATCH_SIZE = 128\n",
        "MAX_SEQ_LENGTH = 96\n",
        "EMBEDDING_DIM = 256\n",
        "NUM_LAYERS = 3\n",
        "NUM_ATTENTION_HEADS = 4\n",
        "TRAIN_EPOCHS = 10\n",
        "LEARNING_RATE = 1e-3"
      ],
      "metadata": {
        "id": "8fK3u8Si1ipv"
      },
      "execution_count": null,
      "outputs": []
    },
    {
      "cell_type": "code",
      "source": [
        "if MIXED_PRECISION:\n",
        "    keras.mixed_precision.set_global_policy('mixed_float16')\n",
        "\n",
        "if DETERMINISM:\n",
        "    keras.utils.set_random_seed(SEED)"
      ],
      "metadata": {
        "id": "nTSgSHHB1l3t"
      },
      "execution_count": null,
      "outputs": []
    },
    {
      "cell_type": "markdown",
      "source": [
        "## Prepare Data\n",
        "\n",
        "In this demo, we will use the [Large Movie Review Dataset](https://ai.stanford.edu/~amaas/data/sentiment/). The dataset is originally for binary sentiment classification that has a set of 25,000 movie reviews for training, and 25,000 for testing. Besides, the dataset contains each review in a separate text file."
      ],
      "metadata": {
        "id": "gKMJSLL8iDJc"
      }
    },
    {
      "cell_type": "code",
      "source": [
        "def custom_standardization(input_string):\n",
        "    lowercased = tf.strings.lower(input_string)\n",
        "    stripped_html = tf.strings.regex_replace(lowercased, '<br />', ' ')\n",
        "    return tf.strings.regex_replace(stripped_html, f'([{string.punctuation}])', r' \\1')\n",
        "\n",
        "\n",
        "def prepare_lm_inputs_labels(text):\n",
        "    text = tf.expand_dims(text, -1)\n",
        "    tokenized_sentences = vectorize_layer(text)\n",
        "    inputs = tokenized_sentences[:, :-1]\n",
        "    labels = tokenized_sentences[:, 1:]\n",
        "    return inputs, labels\n",
        "\n",
        "\n",
        "def create_dataset(file_paths, is_training=False):\n",
        "    dataset = tf.data.TextLineDataset(sorted(file_paths))\n",
        "    if is_training:\n",
        "        vectorize_layer.adapt(dataset)\n",
        "        dataset = dataset.shuffle(buffer_size=BATCH_SIZE * 2, seed=SEED)\n",
        "\n",
        "    dataset = dataset.batch(BATCH_SIZE)\n",
        "    dataset = dataset.map(prepare_lm_inputs_labels,\n",
        "                          num_parallel_calls=AUTOTUNE)\n",
        "    dataset = dataset.prefetch(AUTOTUNE)\n",
        "    return dataset"
      ],
      "metadata": {
        "id": "mue_VCFAil-A"
      },
      "execution_count": null,
      "outputs": []
    },
    {
      "cell_type": "code",
      "source": [
        "file_paths = []\n",
        "data_directories = [\n",
        "    'aclImdb/train/pos',\n",
        "    'aclImdb/train/neg',\n",
        "    'aclImdb/test/pos',\n",
        "    'aclImdb/test/neg',\n",
        "]\n",
        "\n",
        "for directory in data_directories:\n",
        "    for filename in os.listdir(directory):\n",
        "        file_path = os.path.join(directory, filename)\n",
        "        file_paths.append(file_path)\n",
        "\n",
        "random.shuffle(file_paths)\n",
        "train_set_size = int(len(file_paths) * 0.9)\n",
        "train_file_paths = file_paths[:train_set_size]\n",
        "val_file_paths = file_paths[train_set_size:]\n",
        "\n",
        "print(f'{len(train_file_paths)} train files, {len(val_file_paths)} validation files')\n",
        "\n",
        "# Create the text vectorization layer.\n",
        "vectorize_layer = tf.keras.layers.TextVectorization(\n",
        "    standardize=custom_standardization,\n",
        "    max_tokens=VOCABULARY_SIZE,\n",
        "    output_mode='int',\n",
        "    output_sequence_length=MAX_SEQ_LENGTH + 1,\n",
        "    pad_to_max_tokens=True\n",
        ")\n",
        "\n",
        "# Create training and validation datasets.\n",
        "train_ds = create_dataset(train_file_paths, is_training=True)\n",
        "val_ds = create_dataset(val_file_paths)"
      ],
      "metadata": {
        "id": "yA78OCOhiOwD",
        "colab": {
          "base_uri": "https://localhost:8080/"
        },
        "outputId": "d144380b-c743-463e-90c7-4ad1f4bdd46c"
      },
      "execution_count": null,
      "outputs": [
        {
          "output_type": "stream",
          "name": "stdout",
          "text": [
            "45000 train files, 5000 validation files\n"
          ]
        }
      ]
    },
    {
      "cell_type": "code",
      "source": [
        "print('Show samples in the train dataset:')\n",
        "for i, (data_batch, label_batch) in enumerate(train_ds.take(2)):\n",
        "    print(f'Sample #{i + 1}')\n",
        "    print(f'    text: {data_batch.numpy()}')\n",
        "    print(f'    label: {label_batch.numpy()}')"
      ],
      "metadata": {
        "id": "O-LS2r6zj_AF",
        "colab": {
          "base_uri": "https://localhost:8080/"
        },
        "outputId": "6be37617-df54-4faf-902a-26c264f554b1"
      },
      "execution_count": null,
      "outputs": [
        {
          "output_type": "stream",
          "name": "stdout",
          "text": [
            "Show samples in the train dataset:\n",
            "Sample #1\n",
            "    text: [[  12   71  444 ...  658    8 1021]\n",
            " [  12  529   10 ...   12 4072   54]\n",
            " [  98   25  710 ...   13  930    7]\n",
            " ...\n",
            " [  17  292   41 ...  756   98  288]\n",
            " [  12   95  221 ...    5 2436  272]\n",
            " [  12  213   32 ...    2 2670    7]]\n",
            "    label: [[  71  444   13 ...    8 1021  956]\n",
            " [ 529   10    5 ... 4072   54  887]\n",
            " [  25  710   58 ...  930    7    5]\n",
            " ...\n",
            " [ 292   41  343 ...   98  288 1307]\n",
            " [  95  221  234 ... 2436  272  135]\n",
            " [ 213   32  118 ... 2670    7    1]]\n",
            "Sample #2\n",
            "    text: [[  79   99   26 ...    5  177  439]\n",
            " [  20    5   22 ...    3    6  258]\n",
            " [  13   18    4 ...    8 1032   40]\n",
            " ...\n",
            " [  13   22    9 ...  251   64   32]\n",
            " [2058   13  272 ...   26    1   50]\n",
            " [  12  202 2075 ...   12  262   25]]\n",
            "    label: [[   99    26   535 ...   177   439    81]\n",
            " [    5    22  1272 ...     6   258     4]\n",
            " [   18     4    17 ...  1032    40   436]\n",
            " ...\n",
            " [   22     9   194 ...    64    32     3]\n",
            " [   13   272    42 ...     1    50  2537]\n",
            " [  202  2075 11854 ...   262    25   253]]\n"
          ]
        }
      ]
    },
    {
      "cell_type": "markdown",
      "source": [
        "## Define Model"
      ],
      "metadata": {
        "id": "tCNyXSg_hWX7"
      }
    },
    {
      "cell_type": "code",
      "source": [
        "def gpt_2_kernel_initializer(stddev=0.02):\n",
        "    return keras.initializers.RandomNormal(stddev=stddev)\n",
        "\n",
        "\n",
        "def causal_attention_mask(batch_size, n_dest, n_src, dtype):\n",
        "    i = ops.arange(n_dest)[:, None]\n",
        "    j = ops.arange(n_src)\n",
        "    m = i >= j - n_src + n_dest\n",
        "    mask = ops.cast(m, dtype)\n",
        "    mask = ops.reshape(mask, [1, n_dest, n_src])\n",
        "    mult = ops.concatenate(\n",
        "        [ops.expand_dims(batch_size, -1), ops.convert_to_tensor([1, 1])], 0\n",
        "    )\n",
        "    return ops.tile(mask, mult)\n",
        "\n",
        "\n",
        "class MLP(Layer):\n",
        "    def __init__(self, hidden_dim, intermediate_dim, dropout=0.1, **kwargs):\n",
        "        super().__init__(**kwargs)\n",
        "        self.dense_1 = Dense(\n",
        "            intermediate_dim,\n",
        "            use_bias=False,\n",
        "            kernel_initializer=gpt_2_kernel_initializer()\n",
        "        )\n",
        "        self.dense_2 = Dense(\n",
        "            hidden_dim,\n",
        "            use_bias=False,\n",
        "            kernel_initializer=gpt_2_kernel_initializer(\n",
        "                0.02 / math.sqrt(2 * 1))\n",
        "        )\n",
        "        self.dropout = Dropout(dropout)\n",
        "\n",
        "    def call(self, inputs):\n",
        "        x = self.dense_1(inputs)\n",
        "        x = keras.activations.gelu(x, approximate=True)\n",
        "        x = self.dense_2(x)\n",
        "        x = self.dropout(x)\n",
        "        return x\n",
        "\n",
        "\n",
        "class TransformerBlock(Layer):\n",
        "    def __init__(\n",
        "        self,\n",
        "        hidden_dim,\n",
        "        intermediate_dim,\n",
        "        num_heads,\n",
        "        dropout=0.1,\n",
        "        layer_norm_epsilon=1e-05,\n",
        "        **kwargs\n",
        "    ):\n",
        "\n",
        "        super().__init__(**kwargs)\n",
        "        self.att = MultiHeadAttention(\n",
        "            num_heads,\n",
        "            hidden_dim,\n",
        "            dropout=dropout,\n",
        "            use_bias=False,\n",
        "            kernel_initializer=gpt_2_kernel_initializer()\n",
        "        )\n",
        "        self.mlp = MLP(\n",
        "            hidden_dim=hidden_dim,\n",
        "            intermediate_dim=intermediate_dim,\n",
        "            dropout=dropout\n",
        "        )\n",
        "        self.layernorm_1 = LayerNormalization(epsilon=layer_norm_epsilon)\n",
        "        self.layernorm_2 = LayerNormalization(epsilon=layer_norm_epsilon)\n",
        "\n",
        "    def call(self, inputs):\n",
        "        batch_size, seq_len = ops.shape(inputs)[:2]\n",
        "        causal_mask = causal_attention_mask(\n",
        "            batch_size, seq_len, seq_len, 'bool')\n",
        "        pre_norm = self.layernorm_1(inputs)\n",
        "        attention_output = self.att(\n",
        "            pre_norm, pre_norm, attention_mask=causal_mask)\n",
        "        mid_out = inputs + attention_output\n",
        "        post_norm = self.layernorm_2(mid_out)\n",
        "        return mid_out + self.mlp(post_norm)\n",
        "\n",
        "\n",
        "class GPT2Model(keras.Model):\n",
        "    def __init__(self, config):\n",
        "        super().__init__()\n",
        "\n",
        "        self.token_emb = Embedding(\n",
        "            input_dim=config.vocab_size,\n",
        "            output_dim=config.n_embd,\n",
        "            embeddings_initializer=gpt_2_kernel_initializer(),\n",
        "            name='token_embedding'\n",
        "        )\n",
        "        self.pos_emb = Embedding(\n",
        "            input_dim=config.n_positions,\n",
        "            output_dim=config.n_embd,\n",
        "            embeddings_initializer=gpt_2_kernel_initializer(),\n",
        "            name='position_embedding'\n",
        "        )\n",
        "        self.dropout = Dropout(config.dropout_rate)\n",
        "        self.transformer_layers = [\n",
        "            TransformerBlock(\n",
        "                hidden_dim=config.n_embd,\n",
        "                intermediate_dim=config.n_embd * 4,\n",
        "                num_heads=config.n_head,\n",
        "                dropout=config.dropout_rate,\n",
        "                layer_norm_epsilon=config.layer_norm_epsilon,\n",
        "                name=f'transformer_layer_{i}'\n",
        "            ) for i in range(config.n_layer)\n",
        "        ]\n",
        "        self.layer_norm = LayerNormalization(\n",
        "            epsilon=config.layer_norm_epsilon,\n",
        "            name='layer_norm'\n",
        "        )\n",
        "        self.lm_head = Dense(\n",
        "            config.vocab_size,\n",
        "            use_bias=False,\n",
        "            kernel_initializer=gpt_2_kernel_initializer(),\n",
        "            name='lm_head'\n",
        "        )\n",
        "\n",
        "    def call(self, inputs):\n",
        "        maxlen = ops.shape(inputs)[-1]\n",
        "        positions = ops.arange(0, maxlen, 1)\n",
        "        pos_emb = self.pos_emb(positions)\n",
        "        token_emb = self.token_emb(inputs)\n",
        "        x = token_emb + pos_emb\n",
        "        x = self.dropout(x)\n",
        "        for layer in self.transformer_layers:\n",
        "            x = layer(x)\n",
        "        x = self.layer_norm(x)\n",
        "        x = self.lm_head(x)\n",
        "        return x\n",
        "\n",
        "\n",
        "class GPT2Config:\n",
        "    def __init__(\n",
        "        self,\n",
        "        vocab_size=50257,\n",
        "        n_positions=1024,\n",
        "        n_embd=768,\n",
        "        n_layer=12,\n",
        "        n_head=12,\n",
        "        dropout_rate=0.1,\n",
        "        layer_norm_epsilon=1e-5\n",
        "    ):\n",
        "        self.vocab_size = vocab_size\n",
        "        self.n_positions = n_positions\n",
        "        self.n_embd = n_embd\n",
        "        self.n_layer = n_layer\n",
        "        self.n_head = n_head\n",
        "        self.dropout_rate = dropout_rate\n",
        "        self.layer_norm_epsilon = layer_norm_epsilon\n"
      ],
      "metadata": {
        "id": "uV8hUZiXitn6"
      },
      "execution_count": null,
      "outputs": []
    },
    {
      "cell_type": "code",
      "source": [
        "def create_model(config):\n",
        "    inputs = Input(shape=(config.n_positions,), dtype='int32')\n",
        "    model = GPT2Model(config)\n",
        "    return model"
      ],
      "metadata": {
        "id": "dEyyX3wklZMu"
      },
      "execution_count": null,
      "outputs": []
    },
    {
      "cell_type": "code",
      "source": [
        "config = GPT2Config(\n",
        "    vocab_size=VOCABULARY_SIZE,\n",
        "    n_positions=MAX_SEQ_LENGTH,\n",
        "    n_layer=NUM_LAYERS,\n",
        "    n_head=NUM_ATTENTION_HEADS,\n",
        "    n_embd=EMBEDDING_DIM,\n",
        "    dropout_rate=0.1\n",
        ")\n",
        "\n",
        "model = create_model(config)"
      ],
      "metadata": {
        "id": "ZmP-uMBA7Q0w"
      },
      "execution_count": null,
      "outputs": []
    },
    {
      "cell_type": "markdown",
      "source": [
        "## Train Model"
      ],
      "metadata": {
        "id": "XzOn4Rzo7KkQ"
      }
    },
    {
      "cell_type": "code",
      "source": [
        "history = None\n",
        "if IS_TRAIN:\n",
        "    perplexity = keras_nlp.metrics.Perplexity(from_logits=True, mask_token_id=0)\n",
        "    model.compile(\n",
        "        optimizer=keras.optimizers.AdamW(LEARNING_RATE),\n",
        "        loss=keras.losses.SparseCategoricalCrossentropy(from_logits=True),\n",
        "        metrics=[perplexity]\n",
        "    )\n",
        "\n",
        "    early_stop_callback = keras.callbacks.EarlyStopping(monitor='val_loss', patience=2)\n",
        "    history = model.fit(train_ds,\n",
        "                        validation_data=val_ds,\n",
        "                        epochs=TRAIN_EPOCHS,\n",
        "                        verbose=1,\n",
        "                        callbacks=[early_stop_callback])\n",
        "\n",
        "    model.save_weights(f'/content/final.weights.h5')"
      ],
      "metadata": {
        "id": "Gmzos5oBno5f",
        "colab": {
          "base_uri": "https://localhost:8080/"
        },
        "outputId": "6ae3f589-b139-42fc-8072-9f44dbabab4c"
      },
      "execution_count": null,
      "outputs": [
        {
          "output_type": "stream",
          "name": "stdout",
          "text": [
            "Epoch 1/10\n",
            "    352/Unknown \u001b[1m81s\u001b[0m 151ms/step - loss: 6.4047 - perplexity: 1026.1497"
          ]
        },
        {
          "output_type": "stream",
          "name": "stderr",
          "text": [
            "/usr/lib/python3.10/contextlib.py:153: UserWarning: Your input ran out of data; interrupting training. Make sure that your dataset or generator can generate at least `steps_per_epoch * epochs` batches. You may need to use the `.repeat()` function when building your dataset.\n",
            "  self.gen.throw(typ, value, traceback)\n"
          ]
        },
        {
          "output_type": "stream",
          "name": "stdout",
          "text": [
            "\b\b\b\b\b\b\b\b\b\b\b\b\b\b\b\b\b\b\b\b\b\b\b\b\b\b\b\b\b\b\b\b\b\b\b\b\b\b\b\b\b\b\b\b\b\b\b\b\b\b\b\b\b\b\b\b\b\b\b\b\b\b\b\b\b\b\b\b\b\r\u001b[1m352/352\u001b[0m \u001b[32m━━━━━━━━━━━━━━━━━━━━\u001b[0m\u001b[37m\u001b[0m \u001b[1m93s\u001b[0m 185ms/step - loss: 6.4029 - perplexity: 1024.2814 - val_loss: 5.0831 - val_perplexity: 187.0631\n",
            "Epoch 2/10\n",
            "\u001b[1m352/352\u001b[0m \u001b[32m━━━━━━━━━━━━━━━━━━━━\u001b[0m\u001b[37m\u001b[0m \u001b[1m100s\u001b[0m 116ms/step - loss: 4.9389 - perplexity: 158.3691 - val_loss: 4.6298 - val_perplexity: 117.4755\n",
            "Epoch 3/10\n",
            "\u001b[1m352/352\u001b[0m \u001b[32m━━━━━━━━━━━━━━━━━━━━\u001b[0m\u001b[37m\u001b[0m \u001b[1m82s\u001b[0m 115ms/step - loss: 4.4986 - perplexity: 100.8206 - val_loss: 4.4497 - val_perplexity: 97.6401\n",
            "Epoch 4/10\n",
            "\u001b[1m352/352\u001b[0m \u001b[32m━━━━━━━━━━━━━━━━━━━━\u001b[0m\u001b[37m\u001b[0m \u001b[1m82s\u001b[0m 114ms/step - loss: 4.2545 - perplexity: 78.4649 - val_loss: 4.3639 - val_perplexity: 89.4370\n",
            "Epoch 5/10\n",
            "\u001b[1m352/352\u001b[0m \u001b[32m━━━━━━━━━━━━━━━━━━━━\u001b[0m\u001b[37m\u001b[0m \u001b[1m82s\u001b[0m 114ms/step - loss: 4.0797 - perplexity: 65.3981 - val_loss: 4.3241 - val_perplexity: 85.9191\n",
            "Epoch 6/10\n",
            "\u001b[1m352/352\u001b[0m \u001b[32m━━━━━━━━━━━━━━━━━━━━\u001b[0m\u001b[37m\u001b[0m \u001b[1m83s\u001b[0m 118ms/step - loss: 3.9228 - perplexity: 55.9294 - val_loss: 4.3042 - val_perplexity: 84.1461\n",
            "Epoch 7/10\n",
            "\u001b[1m352/352\u001b[0m \u001b[32m━━━━━━━━━━━━━━━━━━━━\u001b[0m\u001b[37m\u001b[0m \u001b[1m81s\u001b[0m 114ms/step - loss: 3.7846 - perplexity: 48.3392 - val_loss: 4.3122 - val_perplexity: 84.9213\n",
            "Epoch 8/10\n",
            "\u001b[1m352/352\u001b[0m \u001b[32m━━━━━━━━━━━━━━━━━━━━\u001b[0m\u001b[37m\u001b[0m \u001b[1m83s\u001b[0m 114ms/step - loss: 3.6573 - perplexity: 42.5203 - val_loss: 4.3374 - val_perplexity: 87.2301\n"
          ]
        }
      ]
    },
    {
      "cell_type": "markdown",
      "source": [
        "### Visualize Training Process"
      ],
      "metadata": {
        "id": "Y0KOmZ2Q_nfK"
      }
    },
    {
      "cell_type": "code",
      "source": [
        "if history is not None:\n",
        "    plt.plot(history.history['loss'])\n",
        "    plt.plot(history.history['val_loss'])\n",
        "    plt.title('Loss History')\n",
        "    plt.ylabel('loss')\n",
        "    plt.xlabel('epoch')\n",
        "    plt.legend(['train', 'val'], loc='upper left')\n",
        "    plt.show()\n",
        "\n",
        "    plt.plot(history.history['perplexity'])\n",
        "    plt.plot(history.history['val_perplexity'])\n",
        "    plt.title('Perplexity History')\n",
        "    plt.ylabel('perplexity')\n",
        "    plt.xlabel('epoch')\n",
        "    plt.legend(['train', 'val'], loc='upper left')\n",
        "    plt.show()"
      ],
      "metadata": {
        "id": "WG6LJZG09611",
        "colab": {
          "base_uri": "https://localhost:8080/",
          "height": 927
        },
        "outputId": "1e3acb0e-f0b8-490b-e692-5638b49a189e"
      },
      "execution_count": null,
      "outputs": [
        {
          "output_type": "display_data",
          "data": {
            "text/plain": [
              "<Figure size 640x480 with 1 Axes>"
            ],
            "image/png": "[encoded data removed]"
          },
          "metadata": {}
        },
        {
          "output_type": "display_data",
          "data": {
            "text/plain": [
              "<Figure size 640x480 with 1 Axes>"
            ],
            "image/png": "[encoded data removed]"
          },
          "metadata": {}
        }
      ]
    },
    {
      "cell_type": "markdown",
      "source": [
        "## Generate Text"
      ],
      "metadata": {
        "id": "beNFbUa4H5z7"
      }
    },
    {
      "cell_type": "code",
      "source": [
        "def sample_from_top_k(logits, top_k=3):\n",
        "    logits, indices = ops.top_k(logits, k=top_k, sorted=True)\n",
        "    indices = np.asarray(indices).astype('int32')\n",
        "    preds = keras.activations.softmax(ops.expand_dims(logits, 0))[0]\n",
        "    preds = np.asarray(preds).astype('float32')\n",
        "    return np.random.choice(indices, p=preds)\n",
        "\n",
        "\n",
        "def generate_text(model, index_to_word, prompt_tokens, num_tokens, max_num_tokens):\n",
        "    num_tokens_generated = 0\n",
        "    tokens_generated = []\n",
        "    current_tokens = prompt_tokens.copy()\n",
        "    while num_tokens_generated <= num_tokens:\n",
        "        pad_len = max_num_tokens - len(current_tokens)\n",
        "        sample_index = len(current_tokens) - 1\n",
        "        if pad_len < 0:\n",
        "            x = current_tokens[:max_num_tokens]\n",
        "            sample_index = max_num_tokens - 1\n",
        "        elif pad_len > 0:\n",
        "            x = current_tokens + [0] * pad_len\n",
        "        else:\n",
        "            x = current_tokens\n",
        "        x = np.array([x])\n",
        "        model_output = model.predict(x, verbose=0)\n",
        "        next_token = sample_from_top_k(model_output[0][sample_index], top_k=3)\n",
        "        tokens_generated.append(next_token)\n",
        "        current_tokens.append(next_token)\n",
        "        num_tokens_generated += 1\n",
        "\n",
        "    result = ' '.join(\n",
        "        [index_to_word[token_id]\n",
        "            for token_id in current_tokens + tokens_generated]\n",
        "    )\n",
        "    return result"
      ],
      "metadata": {
        "id": "-7PdPCy_H-GO"
      },
      "execution_count": null,
      "outputs": []
    },
    {
      "cell_type": "code",
      "source": [
        "model.load_weights('/content/final.weights.h5')\n",
        "\n",
        "vocabulary = vectorize_layer.get_vocabulary()\n",
        "\n",
        "word_to_index = {word: index for index, word in enumerate(vocabulary)}\n",
        "\n",
        "start_prompt = 'this movie'\n",
        "prompt_tokens = [word_to_index.get(w, 1) for w in start_prompt.split()]\n",
        "num_tokens = 40\n",
        "\n",
        "keras.utils.set_random_seed(SEED)\n",
        "result = generate_text(model, vocabulary, prompt_tokens, num_tokens, MAX_SEQ_LENGTH)\n",
        "\n",
        "print(f'generated text:\\n{result}\\n')"
      ],
      "metadata": {
        "id": "Bm9VyMzoIJCu",
        "colab": {
          "base_uri": "https://localhost:8080/"
        },
        "outputId": "24febbdf-3b17-45de-ef97-2fbbab9dc919"
      },
      "execution_count": null,
      "outputs": [
        {
          "output_type": "stream",
          "name": "stdout",
          "text": [
            "generated text:\n",
            "this movie is so bad that i can 't believe it is a bad movie . i have seen it twice and i have to say it was a great movie . it is a great film and i have seen it a is so bad that i can 't believe it is a bad movie . i have seen it twice and i have to say it was a great movie . it is a great film and i have seen it a\n",
            "\n"
          ]
        }
      ]
    }
  ]
}